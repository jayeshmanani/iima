{
 "cells": [
  {
   "cell_type": "code",
   "execution_count": 6,
   "metadata": {},
   "outputs": [],
   "source": [
    "import pandas as pd\n",
    "import datetime\n",
    "import numpy as np"
   ]
  },
  {
   "cell_type": "code",
   "execution_count": 2,
   "metadata": {},
   "outputs": [],
   "source": [
    "d1_2015 = pd.read_pickle('./data/dt_for 1 year/2015_data.pkl')\n",
    "d1_2016 = pd.read_pickle('./data/dt_for 1 year/2016_data.pkl')\n",
    "d1_2017 = pd.read_pickle('./data/dt_for 1 year/2017_data.pkl')\n",
    "d1_2018 = pd.read_pickle('./data/dt_for 1 year/2018_data.pkl')\n",
    "d1_2019 = pd.read_pickle('./data/dt_for 1 year/2019_data.pkl')\n",
    "\n",
    "d3_2015 = pd.read_pickle('./data/dt_for 3 year/2015_data.pkl')\n",
    "d3_2016 = pd.read_pickle('./data/dt_for 3 year/2016_data.pkl')\n",
    "d3_2017 = pd.read_pickle('./data/dt_for 3 year/2017_data.pkl')\n",
    "d3_2018 = pd.read_pickle('./data/dt_for 3 year/2018_data.pkl')\n",
    "d3_2019 = pd.read_pickle('./data/dt_for 3 year/2019_data.pkl')"
   ]
  },
  {
   "cell_type": "code",
   "execution_count": 2,
   "metadata": {},
   "outputs": [],
   "source": [
    "ll = [0.1601, 0.1534, 0.1141, 0.0681, 0.0374, 0.0479, 0.3417, 0.0143, 0.0631]"
   ]
  },
  {
   "cell_type": "code",
   "execution_count": 15,
   "metadata": {},
   "outputs": [],
   "source": [
    "ll2 = [0.2483, 0.1514, 0.2925, 0.1199]"
   ]
  },
  {
   "cell_type": "code",
   "execution_count": 26,
   "metadata": {},
   "outputs": [],
   "source": [
    "ll3 = [1,2,3,4]"
   ]
  },
  {
   "cell_type": "code",
   "execution_count": 27,
   "metadata": {},
   "outputs": [],
   "source": [
    "ll4 = [4,3,2,1]"
   ]
  },
  {
   "cell_type": "code",
   "execution_count": 29,
   "metadata": {},
   "outputs": [
    {
     "data": {
      "text/plain": [
       "array([4, 6, 6, 4])"
      ]
     },
     "execution_count": 29,
     "metadata": {},
     "output_type": "execute_result"
    }
   ],
   "source": [
    "np.array(ll3)*np.array(ll4)"
   ]
  },
  {
   "cell_type": "code",
   "execution_count": 24,
   "metadata": {},
   "outputs": [
    {
     "data": {
      "text/plain": [
       "0.8120999999999999"
      ]
     },
     "execution_count": 24,
     "metadata": {},
     "output_type": "execute_result"
    }
   ],
   "source": [
    "sum(ll2)"
   ]
  },
  {
   "cell_type": "code",
   "execution_count": 25,
   "metadata": {},
   "outputs": [
    {
     "data": {
      "text/plain": [
       "1.0001"
      ]
     },
     "execution_count": 25,
     "metadata": {},
     "output_type": "execute_result"
    }
   ],
   "source": [
    "sum(ll)"
   ]
  },
  {
   "cell_type": "code",
   "execution_count": 14,
   "metadata": {},
   "outputs": [
    {
     "data": {
      "text/plain": [
       "[0.044437483233056976,\n",
       " 0.042577825908500566,\n",
       " 0.03166968667640101,\n",
       " 0.018901890119745034,\n",
       " 0.010380773722150724,\n",
       " 0.013295162066604804,\n",
       " 0.09484252355237707,\n",
       " 0.003969119364351748,\n",
       " 0.017514086146195474]"
      ]
     },
     "execution_count": 14,
     "metadata": {},
     "output_type": "execute_result"
    }
   ],
   "source": [
    "list(np.array(ll) * 0.2775607947099124)"
   ]
  },
  {
   "cell_type": "code",
   "execution_count": 22,
   "metadata": {},
   "outputs": [
    {
     "data": {
      "text/plain": [
       "[0.022903646368769494,\n",
       " 0.013965413049664524,\n",
       " 0.026980735251168248,\n",
       " 0.01105979540723102]"
      ]
     },
     "execution_count": 22,
     "metadata": {},
     "output_type": "execute_result"
    }
   ],
   "source": [
    "list(np.array(ll2) * 0.09224182991852393)"
   ]
  },
  {
   "cell_type": "code",
   "execution_count": 23,
   "metadata": {},
   "outputs": [
    {
     "data": {
      "text/plain": [
       "[0.19070546378106887,\n",
       " 0.11628194609929049,\n",
       " 0.22465303324995023,\n",
       " 0.09208854251852662]"
      ]
     },
     "execution_count": 23,
     "metadata": {},
     "output_type": "execute_result"
    }
   ],
   "source": [
    "list(np.array(ll2) * 0.768044558119488)"
   ]
  },
  {
   "cell_type": "code",
   "execution_count": 3,
   "metadata": {},
   "outputs": [
    {
     "ename": "UnicodeDecodeError",
     "evalue": "'utf-8' codec can't decode byte 0x80 in position 0: invalid start byte",
     "output_type": "error",
     "traceback": [
      "\u001b[0;31m---------------------------------------------------------------------------\u001b[0m",
      "\u001b[0;31mUnicodeDecodeError\u001b[0m                        Traceback (most recent call last)",
      "\u001b[0;32m<ipython-input-3-37c1d192a0d6>\u001b[0m in \u001b[0;36m<module>\u001b[0;34m\u001b[0m\n\u001b[0;32m----> 1\u001b[0;31m \u001b[0mpd\u001b[0m\u001b[0;34m.\u001b[0m\u001b[0mread_csv\u001b[0m\u001b[0;34m(\u001b[0m\u001b[0;34m'./data/new_final_df.pkl'\u001b[0m\u001b[0;34m)\u001b[0m\u001b[0;34m\u001b[0m\u001b[0;34m\u001b[0m\u001b[0m\n\u001b[0m",
      "\u001b[0;32m/opt/anaconda3/lib/python3.7/site-packages/pandas/io/parsers.py\u001b[0m in \u001b[0;36mparser_f\u001b[0;34m(filepath_or_buffer, sep, delimiter, header, names, index_col, usecols, squeeze, prefix, mangle_dupe_cols, dtype, engine, converters, true_values, false_values, skipinitialspace, skiprows, skipfooter, nrows, na_values, keep_default_na, na_filter, verbose, skip_blank_lines, parse_dates, infer_datetime_format, keep_date_col, date_parser, dayfirst, cache_dates, iterator, chunksize, compression, thousands, decimal, lineterminator, quotechar, quoting, doublequote, escapechar, comment, encoding, dialect, error_bad_lines, warn_bad_lines, delim_whitespace, low_memory, memory_map, float_precision)\u001b[0m\n\u001b[1;32m    683\u001b[0m         )\n\u001b[1;32m    684\u001b[0m \u001b[0;34m\u001b[0m\u001b[0m\n\u001b[0;32m--> 685\u001b[0;31m         \u001b[0;32mreturn\u001b[0m \u001b[0m_read\u001b[0m\u001b[0;34m(\u001b[0m\u001b[0mfilepath_or_buffer\u001b[0m\u001b[0;34m,\u001b[0m \u001b[0mkwds\u001b[0m\u001b[0;34m)\u001b[0m\u001b[0;34m\u001b[0m\u001b[0;34m\u001b[0m\u001b[0m\n\u001b[0m\u001b[1;32m    686\u001b[0m \u001b[0;34m\u001b[0m\u001b[0m\n\u001b[1;32m    687\u001b[0m     \u001b[0mparser_f\u001b[0m\u001b[0;34m.\u001b[0m\u001b[0m__name__\u001b[0m \u001b[0;34m=\u001b[0m \u001b[0mname\u001b[0m\u001b[0;34m\u001b[0m\u001b[0;34m\u001b[0m\u001b[0m\n",
      "\u001b[0;32m/opt/anaconda3/lib/python3.7/site-packages/pandas/io/parsers.py\u001b[0m in \u001b[0;36m_read\u001b[0;34m(filepath_or_buffer, kwds)\u001b[0m\n\u001b[1;32m    455\u001b[0m \u001b[0;34m\u001b[0m\u001b[0m\n\u001b[1;32m    456\u001b[0m     \u001b[0;31m# Create the parser.\u001b[0m\u001b[0;34m\u001b[0m\u001b[0;34m\u001b[0m\u001b[0;34m\u001b[0m\u001b[0m\n\u001b[0;32m--> 457\u001b[0;31m     \u001b[0mparser\u001b[0m \u001b[0;34m=\u001b[0m \u001b[0mTextFileReader\u001b[0m\u001b[0;34m(\u001b[0m\u001b[0mfp_or_buf\u001b[0m\u001b[0;34m,\u001b[0m \u001b[0;34m**\u001b[0m\u001b[0mkwds\u001b[0m\u001b[0;34m)\u001b[0m\u001b[0;34m\u001b[0m\u001b[0;34m\u001b[0m\u001b[0m\n\u001b[0m\u001b[1;32m    458\u001b[0m \u001b[0;34m\u001b[0m\u001b[0m\n\u001b[1;32m    459\u001b[0m     \u001b[0;32mif\u001b[0m \u001b[0mchunksize\u001b[0m \u001b[0;32mor\u001b[0m \u001b[0miterator\u001b[0m\u001b[0;34m:\u001b[0m\u001b[0;34m\u001b[0m\u001b[0;34m\u001b[0m\u001b[0m\n",
      "\u001b[0;32m/opt/anaconda3/lib/python3.7/site-packages/pandas/io/parsers.py\u001b[0m in \u001b[0;36m__init__\u001b[0;34m(self, f, engine, **kwds)\u001b[0m\n\u001b[1;32m    893\u001b[0m             \u001b[0mself\u001b[0m\u001b[0;34m.\u001b[0m\u001b[0moptions\u001b[0m\u001b[0;34m[\u001b[0m\u001b[0;34m\"has_index_names\"\u001b[0m\u001b[0;34m]\u001b[0m \u001b[0;34m=\u001b[0m \u001b[0mkwds\u001b[0m\u001b[0;34m[\u001b[0m\u001b[0;34m\"has_index_names\"\u001b[0m\u001b[0;34m]\u001b[0m\u001b[0;34m\u001b[0m\u001b[0;34m\u001b[0m\u001b[0m\n\u001b[1;32m    894\u001b[0m \u001b[0;34m\u001b[0m\u001b[0m\n\u001b[0;32m--> 895\u001b[0;31m         \u001b[0mself\u001b[0m\u001b[0;34m.\u001b[0m\u001b[0m_make_engine\u001b[0m\u001b[0;34m(\u001b[0m\u001b[0mself\u001b[0m\u001b[0;34m.\u001b[0m\u001b[0mengine\u001b[0m\u001b[0;34m)\u001b[0m\u001b[0;34m\u001b[0m\u001b[0;34m\u001b[0m\u001b[0m\n\u001b[0m\u001b[1;32m    896\u001b[0m \u001b[0;34m\u001b[0m\u001b[0m\n\u001b[1;32m    897\u001b[0m     \u001b[0;32mdef\u001b[0m \u001b[0mclose\u001b[0m\u001b[0;34m(\u001b[0m\u001b[0mself\u001b[0m\u001b[0;34m)\u001b[0m\u001b[0;34m:\u001b[0m\u001b[0;34m\u001b[0m\u001b[0;34m\u001b[0m\u001b[0m\n",
      "\u001b[0;32m/opt/anaconda3/lib/python3.7/site-packages/pandas/io/parsers.py\u001b[0m in \u001b[0;36m_make_engine\u001b[0;34m(self, engine)\u001b[0m\n\u001b[1;32m   1133\u001b[0m     \u001b[0;32mdef\u001b[0m \u001b[0m_make_engine\u001b[0m\u001b[0;34m(\u001b[0m\u001b[0mself\u001b[0m\u001b[0;34m,\u001b[0m \u001b[0mengine\u001b[0m\u001b[0;34m=\u001b[0m\u001b[0;34m\"c\"\u001b[0m\u001b[0;34m)\u001b[0m\u001b[0;34m:\u001b[0m\u001b[0;34m\u001b[0m\u001b[0;34m\u001b[0m\u001b[0m\n\u001b[1;32m   1134\u001b[0m         \u001b[0;32mif\u001b[0m \u001b[0mengine\u001b[0m \u001b[0;34m==\u001b[0m \u001b[0;34m\"c\"\u001b[0m\u001b[0;34m:\u001b[0m\u001b[0;34m\u001b[0m\u001b[0;34m\u001b[0m\u001b[0m\n\u001b[0;32m-> 1135\u001b[0;31m             \u001b[0mself\u001b[0m\u001b[0;34m.\u001b[0m\u001b[0m_engine\u001b[0m \u001b[0;34m=\u001b[0m \u001b[0mCParserWrapper\u001b[0m\u001b[0;34m(\u001b[0m\u001b[0mself\u001b[0m\u001b[0;34m.\u001b[0m\u001b[0mf\u001b[0m\u001b[0;34m,\u001b[0m \u001b[0;34m**\u001b[0m\u001b[0mself\u001b[0m\u001b[0;34m.\u001b[0m\u001b[0moptions\u001b[0m\u001b[0;34m)\u001b[0m\u001b[0;34m\u001b[0m\u001b[0;34m\u001b[0m\u001b[0m\n\u001b[0m\u001b[1;32m   1136\u001b[0m         \u001b[0;32melse\u001b[0m\u001b[0;34m:\u001b[0m\u001b[0;34m\u001b[0m\u001b[0;34m\u001b[0m\u001b[0m\n\u001b[1;32m   1137\u001b[0m             \u001b[0;32mif\u001b[0m \u001b[0mengine\u001b[0m \u001b[0;34m==\u001b[0m \u001b[0;34m\"python\"\u001b[0m\u001b[0;34m:\u001b[0m\u001b[0;34m\u001b[0m\u001b[0;34m\u001b[0m\u001b[0m\n",
      "\u001b[0;32m/opt/anaconda3/lib/python3.7/site-packages/pandas/io/parsers.py\u001b[0m in \u001b[0;36m__init__\u001b[0;34m(self, src, **kwds)\u001b[0m\n\u001b[1;32m   1915\u001b[0m         \u001b[0mkwds\u001b[0m\u001b[0;34m[\u001b[0m\u001b[0;34m\"usecols\"\u001b[0m\u001b[0;34m]\u001b[0m \u001b[0;34m=\u001b[0m \u001b[0mself\u001b[0m\u001b[0;34m.\u001b[0m\u001b[0musecols\u001b[0m\u001b[0;34m\u001b[0m\u001b[0;34m\u001b[0m\u001b[0m\n\u001b[1;32m   1916\u001b[0m \u001b[0;34m\u001b[0m\u001b[0m\n\u001b[0;32m-> 1917\u001b[0;31m         \u001b[0mself\u001b[0m\u001b[0;34m.\u001b[0m\u001b[0m_reader\u001b[0m \u001b[0;34m=\u001b[0m \u001b[0mparsers\u001b[0m\u001b[0;34m.\u001b[0m\u001b[0mTextReader\u001b[0m\u001b[0;34m(\u001b[0m\u001b[0msrc\u001b[0m\u001b[0;34m,\u001b[0m \u001b[0;34m**\u001b[0m\u001b[0mkwds\u001b[0m\u001b[0;34m)\u001b[0m\u001b[0;34m\u001b[0m\u001b[0;34m\u001b[0m\u001b[0m\n\u001b[0m\u001b[1;32m   1918\u001b[0m         \u001b[0mself\u001b[0m\u001b[0;34m.\u001b[0m\u001b[0munnamed_cols\u001b[0m \u001b[0;34m=\u001b[0m \u001b[0mself\u001b[0m\u001b[0;34m.\u001b[0m\u001b[0m_reader\u001b[0m\u001b[0;34m.\u001b[0m\u001b[0munnamed_cols\u001b[0m\u001b[0;34m\u001b[0m\u001b[0;34m\u001b[0m\u001b[0m\n\u001b[1;32m   1919\u001b[0m \u001b[0;34m\u001b[0m\u001b[0m\n",
      "\u001b[0;32mpandas/_libs/parsers.pyx\u001b[0m in \u001b[0;36mpandas._libs.parsers.TextReader.__cinit__\u001b[0;34m()\u001b[0m\n",
      "\u001b[0;32mpandas/_libs/parsers.pyx\u001b[0m in \u001b[0;36mpandas._libs.parsers.TextReader._get_header\u001b[0;34m()\u001b[0m\n",
      "\u001b[0;31mUnicodeDecodeError\u001b[0m: 'utf-8' codec can't decode byte 0x80 in position 0: invalid start byte"
     ]
    }
   ],
   "source": [
    "pd.read_csv('./data/new_final_df.pkl')"
   ]
  },
  {
   "cell_type": "code",
   "execution_count": 6,
   "metadata": {},
   "outputs": [],
   "source": [
    "c_year = datetime.datetime.today().year \n",
    "year = 2019"
   ]
  },
  {
   "cell_type": "code",
   "execution_count": 8,
   "metadata": {},
   "outputs": [
    {
     "data": {
      "text/plain": [
       "[2020, 2019, 2018, 2017]"
      ]
     },
     "execution_count": 8,
     "metadata": {},
     "output_type": "execute_result"
    }
   ],
   "source": [
    "[c_year, c_year-1, c_year-2, c_year-3]"
   ]
  },
  {
   "cell_type": "code",
   "execution_count": 7,
   "metadata": {},
   "outputs": [
    {
     "name": "stdout",
     "output_type": "stream",
     "text": [
      "yes\n"
     ]
    }
   ],
   "source": [
    "if year in [c_year, c_year-1, c_year-2, c_year-3]:\n",
    "    print(\"yes\")"
   ]
  },
  {
   "cell_type": "code",
   "execution_count": 4,
   "metadata": {},
   "outputs": [
    {
     "data": {
      "text/plain": [
       "country_id                           VE\n",
       "country_code                        VEN\n",
       "country_name                  Venezuela\n",
       "default_hist                          1\n",
       "fiscal_balance_gdp              -10.652\n",
       "government_grossdebt_gdp         11.055\n",
       "inflation_data                  121.738\n",
       "exports_growth                   -0.863\n",
       "savings_gdp                       2.352\n",
       "externaldebt                1.60909e+11\n",
       "exports                     8.05242e+10\n",
       "reserves                    1.56253e+10\n",
       "real_gdppc                      14025.4\n",
       "imports                     1.51446e+11\n",
       "real_gdpgrowth                 -3.89439\n",
       "real_gnipc                      13921.7\n",
       "nominal_gdp                 4.82359e+11\n",
       "political_stability           -0.977181\n",
       "rule_of_law                    -2.03237\n",
       "govt_effectiveness             -1.21992\n",
       "m3_gdp                              NaN\n",
       "externaldebt/exports            199.827\n",
       "reserves/import                 10.3174\n",
       "reserves/gdp                    3.23935\n",
       "log_real_gnipc                  9.54121\n",
       "predicted_specgrade            0.864393\n",
       "Speculative_Grade_Prob         0.703578\n",
       "y_hat                          -3.45173\n",
       "(Threshold_Yhat)/sigma        -0.341696\n",
       "Debt_Distress_prob             0.415397\n",
       "Name: 113, dtype: object"
      ]
     },
     "execution_count": 4,
     "metadata": {},
     "output_type": "execute_result"
    }
   ],
   "source": [
    "d1_2015.iloc[113]"
   ]
  },
  {
   "cell_type": "code",
   "execution_count": 5,
   "metadata": {},
   "outputs": [
    {
     "data": {
      "text/plain": [
       "country_id                           VE\n",
       "country_code                        VEN\n",
       "country_name                  Venezuela\n",
       "default_hist                          1\n",
       "fiscal_balance_gdp              -10.834\n",
       "government_grossdebt_gdp          5.054\n",
       "inflation_data                  254.949\n",
       "exports_growth                  -11.729\n",
       "savings_gdp                       4.015\n",
       "externaldebt                1.52523e+11\n",
       "exports                             NaN\n",
       "reserves                      1.015e+10\n",
       "real_gdppc                          NaN\n",
       "imports                             NaN\n",
       "real_gdpgrowth                      NaN\n",
       "real_gnipc                          NaN\n",
       "nominal_gdp                         NaN\n",
       "political_stability             -1.0246\n",
       "rule_of_law                    -2.24108\n",
       "govt_effectiveness             -1.28573\n",
       "m3_gdp                              NaN\n",
       "externaldebt/exports                NaN\n",
       "reserves/import                     NaN\n",
       "reserves/gdp                        NaN\n",
       "log_real_gnipc                      NaN\n",
       "predicted_specgrade                 NaN\n",
       "Speculative_Grade_Prob              NaN\n",
       "y_hat                               NaN\n",
       "(Threshold_Yhat)/sigma              NaN\n",
       "Debt_Distress_prob                  NaN\n",
       "Name: 113, dtype: object"
      ]
     },
     "execution_count": 5,
     "metadata": {},
     "output_type": "execute_result"
    }
   ],
   "source": [
    "d1_2016.iloc[113]"
   ]
  },
  {
   "cell_type": "code",
   "execution_count": 32,
   "metadata": {},
   "outputs": [],
   "source": [
    "df = d3_2019\n",
    "df.iloc[df.index[df.Debt_Distress_prob.isna()]].to_csv('nan_data/d3/d3_2019_nan_debt_distress.csv')\n",
    "df.iloc[df.index[df.Debt_Distress_prob.isna()]].to_pickle('nan_data/d3/d3_2019_nan_debt_distress.pkl')"
   ]
  },
  {
   "cell_type": "code",
   "execution_count": 45,
   "metadata": {},
   "outputs": [],
   "source": [
    "df = d1_2019\n",
    "df.iloc[df.index[df.Speculative_Grade_Prob.isna()]].to_csv('nan_data/d1/d1_2019_nan_spec_grade.csv')\n",
    "df.iloc[df.index[df.Speculative_Grade_Prob.isna()]].to_pickle('nan_data/d1/d1_2019_nan_spec_grade.pkl')"
   ]
  },
  {
   "cell_type": "code",
   "execution_count": 13,
   "metadata": {},
   "outputs": [
    {
     "data": {
      "text/plain": [
       "33"
      ]
     },
     "execution_count": 13,
     "metadata": {},
     "output_type": "execute_result"
    }
   ],
   "source": [
    "d1_2015.Debt_Distress_prob.isna().sum()"
   ]
  },
  {
   "cell_type": "code",
   "execution_count": 34,
   "metadata": {},
   "outputs": [
    {
     "data": {
      "text/plain": [
       "33"
      ]
     },
     "execution_count": 34,
     "metadata": {},
     "output_type": "execute_result"
    }
   ],
   "source": [
    "d3_2019.Debt_Distress_prob.isna().sum()"
   ]
  },
  {
   "cell_type": "code",
   "execution_count": 52,
   "metadata": {},
   "outputs": [
    {
     "data": {
      "text/plain": [
       "30"
      ]
     },
     "execution_count": 52,
     "metadata": {},
     "output_type": "execute_result"
    }
   ],
   "source": [
    "d1_2019.Speculative_Grade_Prob.isna().sum()"
   ]
  },
  {
   "cell_type": "code",
   "execution_count": 35,
   "metadata": {},
   "outputs": [
    {
     "data": {
      "text/plain": [
       "20"
      ]
     },
     "execution_count": 35,
     "metadata": {},
     "output_type": "execute_result"
    }
   ],
   "source": [
    "d3_2019.Speculative_Grade_Prob.isna().sum()"
   ]
  },
  {
   "cell_type": "code",
   "execution_count": 2,
   "metadata": {},
   "outputs": [],
   "source": [
    "dtt = pd.read_pickle('data/new_final_df.pkl')"
   ]
  },
  {
   "cell_type": "code",
   "execution_count": 49,
   "metadata": {},
   "outputs": [
    {
     "data": {
      "text/html": [
       "<div>\n",
       "<style scoped>\n",
       "    .dataframe tbody tr th:only-of-type {\n",
       "        vertical-align: middle;\n",
       "    }\n",
       "\n",
       "    .dataframe tbody tr th {\n",
       "        vertical-align: top;\n",
       "    }\n",
       "\n",
       "    .dataframe thead th {\n",
       "        text-align: right;\n",
       "    }\n",
       "</style>\n",
       "<table border=\"1\" class=\"dataframe\">\n",
       "  <thead>\n",
       "    <tr style=\"text-align: right;\">\n",
       "      <th></th>\n",
       "      <th>country_id</th>\n",
       "      <th>country_code</th>\n",
       "      <th>country_name</th>\n",
       "      <th>default_hist</th>\n",
       "      <th>region</th>\n",
       "    </tr>\n",
       "  </thead>\n",
       "  <tbody>\n",
       "    <tr>\n",
       "      <td>0</td>\n",
       "      <td>AF</td>\n",
       "      <td>AFG</td>\n",
       "      <td>Afghanistan</td>\n",
       "      <td>0</td>\n",
       "      <td>South Asia</td>\n",
       "    </tr>\n",
       "    <tr>\n",
       "      <td>1</td>\n",
       "      <td>AO</td>\n",
       "      <td>AGO</td>\n",
       "      <td>Angola</td>\n",
       "      <td>0</td>\n",
       "      <td>Sub-Saharan Africa</td>\n",
       "    </tr>\n",
       "    <tr>\n",
       "      <td>2</td>\n",
       "      <td>AL</td>\n",
       "      <td>ALB</td>\n",
       "      <td>Albania</td>\n",
       "      <td>0</td>\n",
       "      <td>Europe and Central Asia</td>\n",
       "    </tr>\n",
       "    <tr>\n",
       "      <td>3</td>\n",
       "      <td>AE</td>\n",
       "      <td>ARE</td>\n",
       "      <td>United Arab Emirates</td>\n",
       "      <td>0</td>\n",
       "      <td>Middle East and North Africa</td>\n",
       "    </tr>\n",
       "    <tr>\n",
       "      <td>4</td>\n",
       "      <td>AR</td>\n",
       "      <td>ARG</td>\n",
       "      <td>Argentina</td>\n",
       "      <td>1</td>\n",
       "      <td>Latin America &amp; the Caribbean</td>\n",
       "    </tr>\n",
       "    <tr>\n",
       "      <td>...</td>\n",
       "      <td>...</td>\n",
       "      <td>...</td>\n",
       "      <td>...</td>\n",
       "      <td>...</td>\n",
       "      <td>...</td>\n",
       "    </tr>\n",
       "    <tr>\n",
       "      <td>113</td>\n",
       "      <td>VE</td>\n",
       "      <td>VEN</td>\n",
       "      <td>Venezuela</td>\n",
       "      <td>1</td>\n",
       "      <td>Latin America &amp; the Caribbean</td>\n",
       "    </tr>\n",
       "    <tr>\n",
       "      <td>114</td>\n",
       "      <td>VN</td>\n",
       "      <td>VNM</td>\n",
       "      <td>Vietnam</td>\n",
       "      <td>0</td>\n",
       "      <td>East Asia and Pacific</td>\n",
       "    </tr>\n",
       "    <tr>\n",
       "      <td>115</td>\n",
       "      <td>YE</td>\n",
       "      <td>YEM</td>\n",
       "      <td>Yemen</td>\n",
       "      <td>0</td>\n",
       "      <td>Middle East and North Africa</td>\n",
       "    </tr>\n",
       "    <tr>\n",
       "      <td>116</td>\n",
       "      <td>ZA</td>\n",
       "      <td>ZAF</td>\n",
       "      <td>South Africa</td>\n",
       "      <td>0</td>\n",
       "      <td>Sub-Saharan Africa</td>\n",
       "    </tr>\n",
       "    <tr>\n",
       "      <td>117</td>\n",
       "      <td>ZM</td>\n",
       "      <td>ZMB</td>\n",
       "      <td>Zambia</td>\n",
       "      <td>0</td>\n",
       "      <td>Sub-Saharan Africa</td>\n",
       "    </tr>\n",
       "  </tbody>\n",
       "</table>\n",
       "<p>118 rows × 5 columns</p>\n",
       "</div>"
      ],
      "text/plain": [
       "    country_id country_code          country_name  default_hist  \\\n",
       "0           AF          AFG           Afghanistan             0   \n",
       "1           AO          AGO                Angola             0   \n",
       "2           AL          ALB               Albania             0   \n",
       "3           AE          ARE  United Arab Emirates             0   \n",
       "4           AR          ARG             Argentina             1   \n",
       "..         ...          ...                   ...           ...   \n",
       "113         VE          VEN             Venezuela             1   \n",
       "114         VN          VNM               Vietnam             0   \n",
       "115         YE          YEM                 Yemen             0   \n",
       "116         ZA          ZAF          South Africa             0   \n",
       "117         ZM          ZMB                Zambia             0   \n",
       "\n",
       "                            region  \n",
       "0                       South Asia  \n",
       "1               Sub-Saharan Africa  \n",
       "2          Europe and Central Asia  \n",
       "3     Middle East and North Africa  \n",
       "4    Latin America & the Caribbean  \n",
       "..                             ...  \n",
       "113  Latin America & the Caribbean  \n",
       "114          East Asia and Pacific  \n",
       "115   Middle East and North Africa  \n",
       "116             Sub-Saharan Africa  \n",
       "117             Sub-Saharan Africa  \n",
       "\n",
       "[118 rows x 5 columns]"
      ]
     },
     "execution_count": 49,
     "metadata": {},
     "output_type": "execute_result"
    }
   ],
   "source": [
    "dtt"
   ]
  },
  {
   "cell_type": "code",
   "execution_count": 58,
   "metadata": {},
   "outputs": [
    {
     "data": {
      "text/plain": [
       "Index(['country_id', 'country_code', 'country_name', 'default_hist',\n",
       "       'fiscal_balance_gdp', 'government_grossdebt_gdp', 'inflation_data',\n",
       "       'exports_growth', 'savings_gdp', 'externaldebt', 'exports', 'reserves',\n",
       "       'real_gdppc', 'imports', 'real_gdpgrowth', 'real_gnipc', 'nominal_gdp',\n",
       "       'political_stability', 'rule_of_law', 'govt_effectiveness', 'm3_gdp',\n",
       "       'externaldebt/exports', 'reserves/import', 'reserves/gdp',\n",
       "       'log_real_gnipc', 'predicted_specgrade', 'Speculative_Grade_Prob',\n",
       "       'y_hat', '(Threshold_Yhat)/sigma', 'Debt_Distress_prob'],\n",
       "      dtype='object')"
      ]
     },
     "execution_count": 58,
     "metadata": {},
     "output_type": "execute_result"
    }
   ],
   "source": [
    "d1_2015.columns"
   ]
  },
  {
   "cell_type": "code",
   "execution_count": 87,
   "metadata": {},
   "outputs": [
    {
     "data": {
      "text/plain": [
       "array(['AF', 'AFG', 'Afghanistan', 0, -1.378, 9.144, -0.662, -11.021,\n",
       "       21.387, 2636960122.3, 1417300546.13462, 6976966153.82054,\n",
       "       574.184114271258, 8461684707.36777, 1.45131465458005, nan,\n",
       "       19907111418.9938, -2.571222, -1.50404, -1.322968, 32.5635,\n",
       "       186.05511226900583, 82.45362944976603, 35.047606892698994, nan,\n",
       "       nan, nan, -3.3810633032827346, -0.35523260665912126,\n",
       "       0.4121141053385461], dtype=object)"
      ]
     },
     "execution_count": 87,
     "metadata": {},
     "output_type": "execute_result"
    }
   ],
   "source": [
    "d1_2015.values[0]"
   ]
  },
  {
   "cell_type": "code",
   "execution_count": 88,
   "metadata": {},
   "outputs": [
    {
     "data": {
      "text/html": [
       "<div>\n",
       "<style scoped>\n",
       "    .dataframe tbody tr th:only-of-type {\n",
       "        vertical-align: middle;\n",
       "    }\n",
       "\n",
       "    .dataframe tbody tr th {\n",
       "        vertical-align: top;\n",
       "    }\n",
       "\n",
       "    .dataframe thead th {\n",
       "        text-align: right;\n",
       "    }\n",
       "</style>\n",
       "<table border=\"1\" class=\"dataframe\">\n",
       "  <thead>\n",
       "    <tr style=\"text-align: right;\">\n",
       "      <th></th>\n",
       "      <th>country_id</th>\n",
       "      <th>country_code</th>\n",
       "      <th>country_name</th>\n",
       "      <th>default_hist</th>\n",
       "      <th>fiscal_balance_gdp</th>\n",
       "      <th>government_grossdebt_gdp</th>\n",
       "      <th>inflation_data</th>\n",
       "      <th>exports_growth</th>\n",
       "      <th>savings_gdp</th>\n",
       "      <th>externaldebt</th>\n",
       "      <th>...</th>\n",
       "      <th>m3_gdp</th>\n",
       "      <th>externaldebt/exports</th>\n",
       "      <th>reserves/import</th>\n",
       "      <th>reserves/gdp</th>\n",
       "      <th>log_real_gnipc</th>\n",
       "      <th>predicted_specgrade</th>\n",
       "      <th>Speculative_Grade_Prob</th>\n",
       "      <th>y_hat</th>\n",
       "      <th>(Threshold_Yhat)/sigma</th>\n",
       "      <th>Debt_Distress_prob</th>\n",
       "    </tr>\n",
       "  </thead>\n",
       "  <tbody>\n",
       "    <tr>\n",
       "      <td>0</td>\n",
       "      <td>AF</td>\n",
       "      <td>AFG</td>\n",
       "      <td>Afghanistan</td>\n",
       "      <td>0</td>\n",
       "      <td>-1.378</td>\n",
       "      <td>9.144</td>\n",
       "      <td>-0.662</td>\n",
       "      <td>-11.021</td>\n",
       "      <td>21.387</td>\n",
       "      <td>2.636960e+09</td>\n",
       "      <td>...</td>\n",
       "      <td>32.5635</td>\n",
       "      <td>186.055112</td>\n",
       "      <td>82.453629</td>\n",
       "      <td>35.047607</td>\n",
       "      <td>NaN</td>\n",
       "      <td>NaN</td>\n",
       "      <td>NaN</td>\n",
       "      <td>-3.381063</td>\n",
       "      <td>-0.355233</td>\n",
       "      <td>0.412114</td>\n",
       "    </tr>\n",
       "    <tr>\n",
       "      <td>1</td>\n",
       "      <td>AO</td>\n",
       "      <td>AGO</td>\n",
       "      <td>Angola</td>\n",
       "      <td>0</td>\n",
       "      <td>-2.917</td>\n",
       "      <td>57.093</td>\n",
       "      <td>9.159</td>\n",
       "      <td>6.721</td>\n",
       "      <td>28.491</td>\n",
       "      <td>5.627231e+10</td>\n",
       "      <td>...</td>\n",
       "      <td>37.2993</td>\n",
       "      <td>162.763960</td>\n",
       "      <td>61.794402</td>\n",
       "      <td>20.474909</td>\n",
       "      <td>8.185396</td>\n",
       "      <td>1.514914</td>\n",
       "      <td>0.819788</td>\n",
       "      <td>-0.037999</td>\n",
       "      <td>-0.995624</td>\n",
       "      <td>0.269803</td>\n",
       "    </tr>\n",
       "    <tr>\n",
       "      <td>2</td>\n",
       "      <td>AL</td>\n",
       "      <td>ALB</td>\n",
       "      <td>Albania</td>\n",
       "      <td>0</td>\n",
       "      <td>-4.054</td>\n",
       "      <td>73.716</td>\n",
       "      <td>1.868</td>\n",
       "      <td>5.269</td>\n",
       "      <td>15.824</td>\n",
       "      <td>8.657265e+09</td>\n",
       "      <td>...</td>\n",
       "      <td>72.8943</td>\n",
       "      <td>278.826166</td>\n",
       "      <td>61.891794</td>\n",
       "      <td>27.562662</td>\n",
       "      <td>8.428617</td>\n",
       "      <td>1.341767</td>\n",
       "      <td>0.792780</td>\n",
       "      <td>2.051374</td>\n",
       "      <td>-1.395861</td>\n",
       "      <td>0.198474</td>\n",
       "    </tr>\n",
       "    <tr>\n",
       "      <td>3</td>\n",
       "      <td>AE</td>\n",
       "      <td>ARE</td>\n",
       "      <td>United Arab Emirates</td>\n",
       "      <td>0</td>\n",
       "      <td>-3.363</td>\n",
       "      <td>18.690</td>\n",
       "      <td>4.070</td>\n",
       "      <td>2.837</td>\n",
       "      <td>19.901</td>\n",
       "      <td>NaN</td>\n",
       "      <td>...</td>\n",
       "      <td>89.8393</td>\n",
       "      <td>NaN</td>\n",
       "      <td>35.275053</td>\n",
       "      <td>26.227294</td>\n",
       "      <td>10.607450</td>\n",
       "      <td>-1.845638</td>\n",
       "      <td>0.136386</td>\n",
       "      <td>NaN</td>\n",
       "      <td>NaN</td>\n",
       "      <td>NaN</td>\n",
       "    </tr>\n",
       "    <tr>\n",
       "      <td>4</td>\n",
       "      <td>AR</td>\n",
       "      <td>ARG</td>\n",
       "      <td>Argentina</td>\n",
       "      <td>1</td>\n",
       "      <td>-6.001</td>\n",
       "      <td>52.563</td>\n",
       "      <td>NaN</td>\n",
       "      <td>-1.633</td>\n",
       "      <td>14.328</td>\n",
       "      <td>1.765750e+11</td>\n",
       "      <td>...</td>\n",
       "      <td>23.7616</td>\n",
       "      <td>277.320574</td>\n",
       "      <td>36.424191</td>\n",
       "      <td>4.290979</td>\n",
       "      <td>9.245278</td>\n",
       "      <td>0.723606</td>\n",
       "      <td>0.673401</td>\n",
       "      <td>NaN</td>\n",
       "      <td>NaN</td>\n",
       "      <td>NaN</td>\n",
       "    </tr>\n",
       "    <tr>\n",
       "      <td>...</td>\n",
       "      <td>...</td>\n",
       "      <td>...</td>\n",
       "      <td>...</td>\n",
       "      <td>...</td>\n",
       "      <td>...</td>\n",
       "      <td>...</td>\n",
       "      <td>...</td>\n",
       "      <td>...</td>\n",
       "      <td>...</td>\n",
       "      <td>...</td>\n",
       "      <td>...</td>\n",
       "      <td>...</td>\n",
       "      <td>...</td>\n",
       "      <td>...</td>\n",
       "      <td>...</td>\n",
       "      <td>...</td>\n",
       "      <td>...</td>\n",
       "      <td>...</td>\n",
       "      <td>...</td>\n",
       "      <td>...</td>\n",
       "      <td>...</td>\n",
       "    </tr>\n",
       "    <tr>\n",
       "      <td>113</td>\n",
       "      <td>VE</td>\n",
       "      <td>VEN</td>\n",
       "      <td>Venezuela</td>\n",
       "      <td>1</td>\n",
       "      <td>-10.652</td>\n",
       "      <td>11.055</td>\n",
       "      <td>121.738</td>\n",
       "      <td>-0.863</td>\n",
       "      <td>2.352</td>\n",
       "      <td>1.609092e+11</td>\n",
       "      <td>...</td>\n",
       "      <td>NaN</td>\n",
       "      <td>199.826994</td>\n",
       "      <td>10.317406</td>\n",
       "      <td>3.239355</td>\n",
       "      <td>9.541206</td>\n",
       "      <td>0.864393</td>\n",
       "      <td>0.703578</td>\n",
       "      <td>-3.451727</td>\n",
       "      <td>-0.341696</td>\n",
       "      <td>0.415397</td>\n",
       "    </tr>\n",
       "    <tr>\n",
       "      <td>114</td>\n",
       "      <td>VN</td>\n",
       "      <td>VNM</td>\n",
       "      <td>Vietnam</td>\n",
       "      <td>0</td>\n",
       "      <td>-5.199</td>\n",
       "      <td>57.098</td>\n",
       "      <td>0.631</td>\n",
       "      <td>9.768</td>\n",
       "      <td>27.519</td>\n",
       "      <td>7.782862e+10</td>\n",
       "      <td>...</td>\n",
       "      <td>128.3430</td>\n",
       "      <td>44.860473</td>\n",
       "      <td>16.428223</td>\n",
       "      <td>14.619175</td>\n",
       "      <td>7.364647</td>\n",
       "      <td>1.629220</td>\n",
       "      <td>0.836063</td>\n",
       "      <td>1.406635</td>\n",
       "      <td>-1.272356</td>\n",
       "      <td>0.218854</td>\n",
       "    </tr>\n",
       "    <tr>\n",
       "      <td>115</td>\n",
       "      <td>YE</td>\n",
       "      <td>YEM</td>\n",
       "      <td>Yemen</td>\n",
       "      <td>0</td>\n",
       "      <td>-10.045</td>\n",
       "      <td>65.475</td>\n",
       "      <td>22.000</td>\n",
       "      <td>-37.959</td>\n",
       "      <td>-5.356</td>\n",
       "      <td>7.298876e+09</td>\n",
       "      <td>...</td>\n",
       "      <td>NaN</td>\n",
       "      <td>NaN</td>\n",
       "      <td>NaN</td>\n",
       "      <td>NaN</td>\n",
       "      <td>NaN</td>\n",
       "      <td>NaN</td>\n",
       "      <td>NaN</td>\n",
       "      <td>NaN</td>\n",
       "      <td>NaN</td>\n",
       "      <td>NaN</td>\n",
       "    </tr>\n",
       "    <tr>\n",
       "      <td>116</td>\n",
       "      <td>ZA</td>\n",
       "      <td>ZAF</td>\n",
       "      <td>South Africa</td>\n",
       "      <td>0</td>\n",
       "      <td>-4.775</td>\n",
       "      <td>49.335</td>\n",
       "      <td>4.575</td>\n",
       "      <td>2.925</td>\n",
       "      <td>16.300</td>\n",
       "      <td>1.380775e+11</td>\n",
       "      <td>...</td>\n",
       "      <td>42.0734</td>\n",
       "      <td>144.173504</td>\n",
       "      <td>45.916126</td>\n",
       "      <td>14.447135</td>\n",
       "      <td>8.904900</td>\n",
       "      <td>0.311587</td>\n",
       "      <td>0.577273</td>\n",
       "      <td>3.715752</td>\n",
       "      <td>-1.714686</td>\n",
       "      <td>0.152557</td>\n",
       "    </tr>\n",
       "    <tr>\n",
       "      <td>117</td>\n",
       "      <td>ZM</td>\n",
       "      <td>ZMB</td>\n",
       "      <td>Zambia</td>\n",
       "      <td>0</td>\n",
       "      <td>-9.539</td>\n",
       "      <td>62.260</td>\n",
       "      <td>10.107</td>\n",
       "      <td>-11.374</td>\n",
       "      <td>40.103</td>\n",
       "      <td>1.191683e+10</td>\n",
       "      <td>...</td>\n",
       "      <td>18.3851</td>\n",
       "      <td>151.042532</td>\n",
       "      <td>29.611914</td>\n",
       "      <td>13.969676</td>\n",
       "      <td>NaN</td>\n",
       "      <td>NaN</td>\n",
       "      <td>NaN</td>\n",
       "      <td>-0.876946</td>\n",
       "      <td>-0.834917</td>\n",
       "      <td>0.302606</td>\n",
       "    </tr>\n",
       "  </tbody>\n",
       "</table>\n",
       "<p>118 rows × 30 columns</p>\n",
       "</div>"
      ],
      "text/plain": [
       "    country_id country_code          country_name  default_hist  \\\n",
       "0           AF          AFG           Afghanistan             0   \n",
       "1           AO          AGO                Angola             0   \n",
       "2           AL          ALB               Albania             0   \n",
       "3           AE          ARE  United Arab Emirates             0   \n",
       "4           AR          ARG             Argentina             1   \n",
       "..         ...          ...                   ...           ...   \n",
       "113         VE          VEN             Venezuela             1   \n",
       "114         VN          VNM               Vietnam             0   \n",
       "115         YE          YEM                 Yemen             0   \n",
       "116         ZA          ZAF          South Africa             0   \n",
       "117         ZM          ZMB                Zambia             0   \n",
       "\n",
       "     fiscal_balance_gdp  government_grossdebt_gdp  inflation_data  \\\n",
       "0                -1.378                     9.144          -0.662   \n",
       "1                -2.917                    57.093           9.159   \n",
       "2                -4.054                    73.716           1.868   \n",
       "3                -3.363                    18.690           4.070   \n",
       "4                -6.001                    52.563             NaN   \n",
       "..                  ...                       ...             ...   \n",
       "113             -10.652                    11.055         121.738   \n",
       "114              -5.199                    57.098           0.631   \n",
       "115             -10.045                    65.475          22.000   \n",
       "116              -4.775                    49.335           4.575   \n",
       "117              -9.539                    62.260          10.107   \n",
       "\n",
       "     exports_growth  savings_gdp  externaldebt  ...    m3_gdp  \\\n",
       "0           -11.021       21.387  2.636960e+09  ...   32.5635   \n",
       "1             6.721       28.491  5.627231e+10  ...   37.2993   \n",
       "2             5.269       15.824  8.657265e+09  ...   72.8943   \n",
       "3             2.837       19.901           NaN  ...   89.8393   \n",
       "4            -1.633       14.328  1.765750e+11  ...   23.7616   \n",
       "..              ...          ...           ...  ...       ...   \n",
       "113          -0.863        2.352  1.609092e+11  ...       NaN   \n",
       "114           9.768       27.519  7.782862e+10  ...  128.3430   \n",
       "115         -37.959       -5.356  7.298876e+09  ...       NaN   \n",
       "116           2.925       16.300  1.380775e+11  ...   42.0734   \n",
       "117         -11.374       40.103  1.191683e+10  ...   18.3851   \n",
       "\n",
       "     externaldebt/exports  reserves/import  reserves/gdp  log_real_gnipc  \\\n",
       "0              186.055112        82.453629     35.047607             NaN   \n",
       "1              162.763960        61.794402     20.474909        8.185396   \n",
       "2              278.826166        61.891794     27.562662        8.428617   \n",
       "3                     NaN        35.275053     26.227294       10.607450   \n",
       "4              277.320574        36.424191      4.290979        9.245278   \n",
       "..                    ...              ...           ...             ...   \n",
       "113            199.826994        10.317406      3.239355        9.541206   \n",
       "114             44.860473        16.428223     14.619175        7.364647   \n",
       "115                   NaN              NaN           NaN             NaN   \n",
       "116            144.173504        45.916126     14.447135        8.904900   \n",
       "117            151.042532        29.611914     13.969676             NaN   \n",
       "\n",
       "     predicted_specgrade  Speculative_Grade_Prob     y_hat  \\\n",
       "0                    NaN                     NaN -3.381063   \n",
       "1               1.514914                0.819788 -0.037999   \n",
       "2               1.341767                0.792780  2.051374   \n",
       "3              -1.845638                0.136386       NaN   \n",
       "4               0.723606                0.673401       NaN   \n",
       "..                   ...                     ...       ...   \n",
       "113             0.864393                0.703578 -3.451727   \n",
       "114             1.629220                0.836063  1.406635   \n",
       "115                  NaN                     NaN       NaN   \n",
       "116             0.311587                0.577273  3.715752   \n",
       "117                  NaN                     NaN -0.876946   \n",
       "\n",
       "     (Threshold_Yhat)/sigma  Debt_Distress_prob  \n",
       "0                 -0.355233            0.412114  \n",
       "1                 -0.995624            0.269803  \n",
       "2                 -1.395861            0.198474  \n",
       "3                       NaN                 NaN  \n",
       "4                       NaN                 NaN  \n",
       "..                      ...                 ...  \n",
       "113               -0.341696            0.415397  \n",
       "114               -1.272356            0.218854  \n",
       "115                     NaN                 NaN  \n",
       "116               -1.714686            0.152557  \n",
       "117               -0.834917            0.302606  \n",
       "\n",
       "[118 rows x 30 columns]"
      ]
     },
     "execution_count": 88,
     "metadata": {},
     "output_type": "execute_result"
    }
   ],
   "source": [
    "d1_2015"
   ]
  },
  {
   "cell_type": "code",
   "execution_count": 90,
   "metadata": {},
   "outputs": [],
   "source": [
    "d1_2016['show']= True"
   ]
  },
  {
   "cell_type": "code",
   "execution_count": 96,
   "metadata": {},
   "outputs": [
    {
     "name": "stderr",
     "output_type": "stream",
     "text": [
      "/opt/anaconda3/lib/python3.7/site-packages/pandas/core/indexing.py:205: SettingWithCopyWarning: \n",
      "A value is trying to be set on a copy of a slice from a DataFrame\n",
      "\n",
      "See the caveats in the documentation: http://pandas.pydata.org/pandas-docs/stable/user_guide/indexing.html#returning-a-view-versus-a-copy\n",
      "  self._setitem_with_indexer(indexer, value)\n"
     ]
    }
   ],
   "source": [
    "d1_2016['show'].loc[2] = False"
   ]
  },
  {
   "cell_type": "code",
   "execution_count": 98,
   "metadata": {},
   "outputs": [
    {
     "data": {
      "text/html": [
       "<div>\n",
       "<style scoped>\n",
       "    .dataframe tbody tr th:only-of-type {\n",
       "        vertical-align: middle;\n",
       "    }\n",
       "\n",
       "    .dataframe tbody tr th {\n",
       "        vertical-align: top;\n",
       "    }\n",
       "\n",
       "    .dataframe thead th {\n",
       "        text-align: right;\n",
       "    }\n",
       "</style>\n",
       "<table border=\"1\" class=\"dataframe\">\n",
       "  <thead>\n",
       "    <tr style=\"text-align: right;\">\n",
       "      <th></th>\n",
       "      <th>country_id</th>\n",
       "      <th>country_code</th>\n",
       "      <th>country_name</th>\n",
       "      <th>default_hist</th>\n",
       "      <th>fiscal_balance_gdp</th>\n",
       "      <th>government_grossdebt_gdp</th>\n",
       "      <th>inflation_data</th>\n",
       "      <th>exports_growth</th>\n",
       "      <th>savings_gdp</th>\n",
       "      <th>externaldebt</th>\n",
       "      <th>...</th>\n",
       "      <th>externaldebt/exports</th>\n",
       "      <th>reserves/import</th>\n",
       "      <th>reserves/gdp</th>\n",
       "      <th>log_real_gnipc</th>\n",
       "      <th>predicted_specgrade</th>\n",
       "      <th>Speculative_Grade_Prob</th>\n",
       "      <th>y_hat</th>\n",
       "      <th>(Threshold_Yhat)/sigma</th>\n",
       "      <th>Debt_Distress_prob</th>\n",
       "      <th>show</th>\n",
       "    </tr>\n",
       "  </thead>\n",
       "  <tbody>\n",
       "    <tr>\n",
       "      <td>0</td>\n",
       "      <td>AF</td>\n",
       "      <td>AFG</td>\n",
       "      <td>Afghanistan</td>\n",
       "      <td>0</td>\n",
       "      <td>0.118</td>\n",
       "      <td>7.823</td>\n",
       "      <td>4.384</td>\n",
       "      <td>-17.135</td>\n",
       "      <td>26.772</td>\n",
       "      <td>2.596712e+09</td>\n",
       "      <td>...</td>\n",
       "      <td>228.581116</td>\n",
       "      <td>99.378141</td>\n",
       "      <td>37.608041</td>\n",
       "      <td>NaN</td>\n",
       "      <td>NaN</td>\n",
       "      <td>NaN</td>\n",
       "      <td>-3.242117</td>\n",
       "      <td>-0.381849</td>\n",
       "      <td>0.405681</td>\n",
       "      <td>True</td>\n",
       "    </tr>\n",
       "    <tr>\n",
       "      <td>1</td>\n",
       "      <td>AO</td>\n",
       "      <td>AGO</td>\n",
       "      <td>Angola</td>\n",
       "      <td>0</td>\n",
       "      <td>-4.520</td>\n",
       "      <td>75.663</td>\n",
       "      <td>30.694</td>\n",
       "      <td>-0.662</td>\n",
       "      <td>24.487</td>\n",
       "      <td>5.716739e+10</td>\n",
       "      <td>...</td>\n",
       "      <td>201.006529</td>\n",
       "      <td>92.725239</td>\n",
       "      <td>23.409108</td>\n",
       "      <td>8.122965</td>\n",
       "      <td>1.942439</td>\n",
       "      <td>0.874620</td>\n",
       "      <td>-0.724539</td>\n",
       "      <td>-0.864112</td>\n",
       "      <td>0.296481</td>\n",
       "      <td>True</td>\n",
       "    </tr>\n",
       "    <tr>\n",
       "      <td>3</td>\n",
       "      <td>AE</td>\n",
       "      <td>ARE</td>\n",
       "      <td>United Arab Emirates</td>\n",
       "      <td>0</td>\n",
       "      <td>-2.810</td>\n",
       "      <td>20.217</td>\n",
       "      <td>1.617</td>\n",
       "      <td>6.063</td>\n",
       "      <td>20.002</td>\n",
       "      <td>NaN</td>\n",
       "      <td>...</td>\n",
       "      <td>NaN</td>\n",
       "      <td>31.574490</td>\n",
       "      <td>23.915982</td>\n",
       "      <td>10.627884</td>\n",
       "      <td>-1.974134</td>\n",
       "      <td>0.121946</td>\n",
       "      <td>NaN</td>\n",
       "      <td>NaN</td>\n",
       "      <td>NaN</td>\n",
       "      <td>True</td>\n",
       "    </tr>\n",
       "    <tr>\n",
       "      <td>4</td>\n",
       "      <td>AR</td>\n",
       "      <td>ARG</td>\n",
       "      <td>Argentina</td>\n",
       "      <td>1</td>\n",
       "      <td>-6.655</td>\n",
       "      <td>53.060</td>\n",
       "      <td>NaN</td>\n",
       "      <td>6.807</td>\n",
       "      <td>16.340</td>\n",
       "      <td>1.887576e+11</td>\n",
       "      <td>...</td>\n",
       "      <td>270.261836</td>\n",
       "      <td>50.786571</td>\n",
       "      <td>6.890109</td>\n",
       "      <td>9.211931</td>\n",
       "      <td>0.471299</td>\n",
       "      <td>0.615691</td>\n",
       "      <td>NaN</td>\n",
       "      <td>NaN</td>\n",
       "      <td>NaN</td>\n",
       "      <td>True</td>\n",
       "    </tr>\n",
       "    <tr>\n",
       "      <td>5</td>\n",
       "      <td>AM</td>\n",
       "      <td>ARM</td>\n",
       "      <td>Armenia</td>\n",
       "      <td>0</td>\n",
       "      <td>-5.632</td>\n",
       "      <td>51.929</td>\n",
       "      <td>-1.406</td>\n",
       "      <td>20.294</td>\n",
       "      <td>15.954</td>\n",
       "      <td>9.955623e+09</td>\n",
       "      <td>...</td>\n",
       "      <td>284.785405</td>\n",
       "      <td>48.865544</td>\n",
       "      <td>20.899732</td>\n",
       "      <td>8.295813</td>\n",
       "      <td>0.933907</td>\n",
       "      <td>0.717867</td>\n",
       "      <td>-0.177272</td>\n",
       "      <td>-0.968945</td>\n",
       "      <td>0.275091</td>\n",
       "      <td>True</td>\n",
       "    </tr>\n",
       "    <tr>\n",
       "      <td>...</td>\n",
       "      <td>...</td>\n",
       "      <td>...</td>\n",
       "      <td>...</td>\n",
       "      <td>...</td>\n",
       "      <td>...</td>\n",
       "      <td>...</td>\n",
       "      <td>...</td>\n",
       "      <td>...</td>\n",
       "      <td>...</td>\n",
       "      <td>...</td>\n",
       "      <td>...</td>\n",
       "      <td>...</td>\n",
       "      <td>...</td>\n",
       "      <td>...</td>\n",
       "      <td>...</td>\n",
       "      <td>...</td>\n",
       "      <td>...</td>\n",
       "      <td>...</td>\n",
       "      <td>...</td>\n",
       "      <td>...</td>\n",
       "      <td>...</td>\n",
       "    </tr>\n",
       "    <tr>\n",
       "      <td>113</td>\n",
       "      <td>VE</td>\n",
       "      <td>VEN</td>\n",
       "      <td>Venezuela</td>\n",
       "      <td>1</td>\n",
       "      <td>-10.834</td>\n",
       "      <td>5.054</td>\n",
       "      <td>254.949</td>\n",
       "      <td>-11.729</td>\n",
       "      <td>4.015</td>\n",
       "      <td>1.525229e+11</td>\n",
       "      <td>...</td>\n",
       "      <td>NaN</td>\n",
       "      <td>NaN</td>\n",
       "      <td>NaN</td>\n",
       "      <td>NaN</td>\n",
       "      <td>NaN</td>\n",
       "      <td>NaN</td>\n",
       "      <td>NaN</td>\n",
       "      <td>NaN</td>\n",
       "      <td>NaN</td>\n",
       "      <td>True</td>\n",
       "    </tr>\n",
       "    <tr>\n",
       "      <td>114</td>\n",
       "      <td>VN</td>\n",
       "      <td>VNM</td>\n",
       "      <td>Vietnam</td>\n",
       "      <td>0</td>\n",
       "      <td>-3.081</td>\n",
       "      <td>59.662</td>\n",
       "      <td>2.668</td>\n",
       "      <td>10.723</td>\n",
       "      <td>29.520</td>\n",
       "      <td>8.566260e+10</td>\n",
       "      <td>...</td>\n",
       "      <td>44.572376</td>\n",
       "      <td>19.540700</td>\n",
       "      <td>17.794219</td>\n",
       "      <td>7.423902</td>\n",
       "      <td>1.320427</td>\n",
       "      <td>0.789253</td>\n",
       "      <td>1.665849</td>\n",
       "      <td>-1.322010</td>\n",
       "      <td>0.210484</td>\n",
       "      <td>True</td>\n",
       "    </tr>\n",
       "    <tr>\n",
       "      <td>115</td>\n",
       "      <td>YE</td>\n",
       "      <td>YEM</td>\n",
       "      <td>Yemen</td>\n",
       "      <td>0</td>\n",
       "      <td>-9.224</td>\n",
       "      <td>79.591</td>\n",
       "      <td>21.300</td>\n",
       "      <td>-69.037</td>\n",
       "      <td>-1.718</td>\n",
       "      <td>7.062886e+09</td>\n",
       "      <td>...</td>\n",
       "      <td>NaN</td>\n",
       "      <td>NaN</td>\n",
       "      <td>NaN</td>\n",
       "      <td>NaN</td>\n",
       "      <td>NaN</td>\n",
       "      <td>NaN</td>\n",
       "      <td>NaN</td>\n",
       "      <td>NaN</td>\n",
       "      <td>NaN</td>\n",
       "      <td>True</td>\n",
       "    </tr>\n",
       "    <tr>\n",
       "      <td>116</td>\n",
       "      <td>ZA</td>\n",
       "      <td>ZAF</td>\n",
       "      <td>South Africa</td>\n",
       "      <td>0</td>\n",
       "      <td>-4.067</td>\n",
       "      <td>51.465</td>\n",
       "      <td>6.341</td>\n",
       "      <td>0.352</td>\n",
       "      <td>16.291</td>\n",
       "      <td>1.460410e+11</td>\n",
       "      <td>...</td>\n",
       "      <td>161.141896</td>\n",
       "      <td>52.965627</td>\n",
       "      <td>15.920016</td>\n",
       "      <td>8.891117</td>\n",
       "      <td>0.338562</td>\n",
       "      <td>0.583841</td>\n",
       "      <td>3.735707</td>\n",
       "      <td>-1.718509</td>\n",
       "      <td>0.152063</td>\n",
       "      <td>True</td>\n",
       "    </tr>\n",
       "    <tr>\n",
       "      <td>117</td>\n",
       "      <td>ZM</td>\n",
       "      <td>ZMB</td>\n",
       "      <td>Zambia</td>\n",
       "      <td>0</td>\n",
       "      <td>-6.097</td>\n",
       "      <td>60.668</td>\n",
       "      <td>17.869</td>\n",
       "      <td>-4.704</td>\n",
       "      <td>34.937</td>\n",
       "      <td>1.535900e+10</td>\n",
       "      <td>...</td>\n",
       "      <td>207.492393</td>\n",
       "      <td>29.061572</td>\n",
       "      <td>11.227610</td>\n",
       "      <td>NaN</td>\n",
       "      <td>NaN</td>\n",
       "      <td>NaN</td>\n",
       "      <td>-1.494039</td>\n",
       "      <td>-0.716708</td>\n",
       "      <td>0.328118</td>\n",
       "      <td>True</td>\n",
       "    </tr>\n",
       "  </tbody>\n",
       "</table>\n",
       "<p>117 rows × 31 columns</p>\n",
       "</div>"
      ],
      "text/plain": [
       "    country_id country_code          country_name  default_hist  \\\n",
       "0           AF          AFG           Afghanistan             0   \n",
       "1           AO          AGO                Angola             0   \n",
       "3           AE          ARE  United Arab Emirates             0   \n",
       "4           AR          ARG             Argentina             1   \n",
       "5           AM          ARM               Armenia             0   \n",
       "..         ...          ...                   ...           ...   \n",
       "113         VE          VEN             Venezuela             1   \n",
       "114         VN          VNM               Vietnam             0   \n",
       "115         YE          YEM                 Yemen             0   \n",
       "116         ZA          ZAF          South Africa             0   \n",
       "117         ZM          ZMB                Zambia             0   \n",
       "\n",
       "     fiscal_balance_gdp  government_grossdebt_gdp  inflation_data  \\\n",
       "0                 0.118                     7.823           4.384   \n",
       "1                -4.520                    75.663          30.694   \n",
       "3                -2.810                    20.217           1.617   \n",
       "4                -6.655                    53.060             NaN   \n",
       "5                -5.632                    51.929          -1.406   \n",
       "..                  ...                       ...             ...   \n",
       "113             -10.834                     5.054         254.949   \n",
       "114              -3.081                    59.662           2.668   \n",
       "115              -9.224                    79.591          21.300   \n",
       "116              -4.067                    51.465           6.341   \n",
       "117              -6.097                    60.668          17.869   \n",
       "\n",
       "     exports_growth  savings_gdp  externaldebt  ...  externaldebt/exports  \\\n",
       "0           -17.135       26.772  2.596712e+09  ...            228.581116   \n",
       "1            -0.662       24.487  5.716739e+10  ...            201.006529   \n",
       "3             6.063       20.002           NaN  ...                   NaN   \n",
       "4             6.807       16.340  1.887576e+11  ...            270.261836   \n",
       "5            20.294       15.954  9.955623e+09  ...            284.785405   \n",
       "..              ...          ...           ...  ...                   ...   \n",
       "113         -11.729        4.015  1.525229e+11  ...                   NaN   \n",
       "114          10.723       29.520  8.566260e+10  ...             44.572376   \n",
       "115         -69.037       -1.718  7.062886e+09  ...                   NaN   \n",
       "116           0.352       16.291  1.460410e+11  ...            161.141896   \n",
       "117          -4.704       34.937  1.535900e+10  ...            207.492393   \n",
       "\n",
       "     reserves/import  reserves/gdp  log_real_gnipc  predicted_specgrade  \\\n",
       "0          99.378141     37.608041             NaN                  NaN   \n",
       "1          92.725239     23.409108        8.122965             1.942439   \n",
       "3          31.574490     23.915982       10.627884            -1.974134   \n",
       "4          50.786571      6.890109        9.211931             0.471299   \n",
       "5          48.865544     20.899732        8.295813             0.933907   \n",
       "..               ...           ...             ...                  ...   \n",
       "113              NaN           NaN             NaN                  NaN   \n",
       "114        19.540700     17.794219        7.423902             1.320427   \n",
       "115              NaN           NaN             NaN                  NaN   \n",
       "116        52.965627     15.920016        8.891117             0.338562   \n",
       "117        29.061572     11.227610             NaN                  NaN   \n",
       "\n",
       "     Speculative_Grade_Prob     y_hat  (Threshold_Yhat)/sigma  \\\n",
       "0                       NaN -3.242117               -0.381849   \n",
       "1                  0.874620 -0.724539               -0.864112   \n",
       "3                  0.121946       NaN                     NaN   \n",
       "4                  0.615691       NaN                     NaN   \n",
       "5                  0.717867 -0.177272               -0.968945   \n",
       "..                      ...       ...                     ...   \n",
       "113                     NaN       NaN                     NaN   \n",
       "114                0.789253  1.665849               -1.322010   \n",
       "115                     NaN       NaN                     NaN   \n",
       "116                0.583841  3.735707               -1.718509   \n",
       "117                     NaN -1.494039               -0.716708   \n",
       "\n",
       "     Debt_Distress_prob  show  \n",
       "0              0.405681  True  \n",
       "1              0.296481  True  \n",
       "3                   NaN  True  \n",
       "4                   NaN  True  \n",
       "5              0.275091  True  \n",
       "..                  ...   ...  \n",
       "113                 NaN  True  \n",
       "114            0.210484  True  \n",
       "115                 NaN  True  \n",
       "116            0.152063  True  \n",
       "117            0.328118  True  \n",
       "\n",
       "[117 rows x 31 columns]"
      ]
     },
     "execution_count": 98,
     "metadata": {},
     "output_type": "execute_result"
    }
   ],
   "source": [
    "d1_2016[d1_2016['show']==True]"
   ]
  },
  {
   "cell_type": "code",
   "execution_count": 99,
   "metadata": {},
   "outputs": [
    {
     "name": "stdout",
     "output_type": "stream",
     "text": [
      "y\n"
     ]
    }
   ],
   "source": [
    "if 'show' in d1_2016.columns:\n",
    "    print('y')"
   ]
  },
  {
   "cell_type": "code",
   "execution_count": null,
   "metadata": {},
   "outputs": [],
   "source": []
  }
 ],
 "metadata": {
  "kernelspec": {
   "display_name": "Python 3",
   "language": "python",
   "name": "python3"
  },
  "language_info": {
   "codemirror_mode": {
    "name": "ipython",
    "version": 3
   },
   "file_extension": ".py",
   "mimetype": "text/x-python",
   "name": "python",
   "nbconvert_exporter": "python",
   "pygments_lexer": "ipython3",
   "version": "3.7.4"
  }
 },
 "nbformat": 4,
 "nbformat_minor": 2
}
